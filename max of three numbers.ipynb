{
 "cells": [
  {
   "cell_type": "raw",
   "id": "98ce2c6c",
   "metadata": {},
   "source": [
    "Ask the user to enter three numbers.\n",
    "\n",
    "Then, you can run multiple comparisons to compare which one is the largest.\n",
    "\n",
    "At first, you can consider that the first number is the largest.\n",
    "\n",
    "Then compare the second number with the first number and the third number. If the second number is greater or equal to the first number and the second number is greater or equal to the third number, then the second number is the largest.\n",
    "\n",
    "Similarly, compare the third number with the first or second number.\n",
    "\n",
    "Otherwise, the first number will be the largest."
   ]
  },
  {
   "cell_type": "code",
   "execution_count": 2,
   "id": "a2244662",
   "metadata": {},
   "outputs": [
    {
     "name": "stdout",
     "output_type": "stream",
     "text": [
      "Enter first number: 12\n",
      "Enter second number: 5\n",
      "Enter third number: 8\n",
      "Largest value is: 12\n"
     ]
    }
   ],
   "source": [
    "num1=int(input(\"Enter first number: \"))\n",
    "num2=int(input(\"Enter second number: \"))\n",
    "num3=int(input(\"Enter third number: \"))\n",
    "\n",
    "largest=num1\n",
    "\n",
    "if num2>num1 and num3:\n",
    "    largest=num2\n",
    "else:\n",
    "    if num3> num1 and num2:\n",
    "        \n",
    "        largest=num3\n",
    "    \n",
    "print(\"Largest value is:\",largest)\n",
    "    "
   ]
  },
  {
   "cell_type": "code",
   "execution_count": 3,
   "id": "4c4596e4",
   "metadata": {},
   "outputs": [
    {
     "name": "stdout",
     "output_type": "stream",
     "text": [
      "Enter first number: 5\n",
      "Enter second number: 25\n",
      "Enter third number: 10\n",
      "Largest value is: 25\n"
     ]
    }
   ],
   "source": [
    "num1=int(input(\"Enter first number: \"))\n",
    "num2=int(input(\"Enter second number: \"))\n",
    "num3=int(input(\"Enter third number: \"))\n",
    "\n",
    "largest=num1\n",
    "\n",
    "if num2>num1 and num3:\n",
    "    largest=num2\n",
    "else:\n",
    "    if num3> num1 and num2:\n",
    "        \n",
    "        largest=num3\n",
    "    \n",
    "print(\"Largest value is:\",largest)\n",
    "    "
   ]
  },
  {
   "cell_type": "code",
   "execution_count": 5,
   "id": "b70a652c",
   "metadata": {},
   "outputs": [
    {
     "name": "stdout",
     "output_type": "stream",
     "text": [
      "Enter first number: 20\n",
      "Enter second number: 125\n",
      "Enter third number: 10\n",
      "Largest value is: 125\n"
     ]
    }
   ],
   "source": [
    "num1=int(input(\"Enter first number: \"))\n",
    "num2=int(input(\"Enter second number: \"))\n",
    "num3=int(input(\"Enter third number: \"))\n",
    "\n",
    "largest=num1\n",
    "\n",
    "if num2>num1 and num3:\n",
    "    largest=num2\n",
    "else:\n",
    "    if num3> num1 and num2:\n",
    "        \n",
    "        largest=num3\n",
    "    \n",
    "print(\"Largest value is:\",largest)\n",
    "    "
   ]
  },
  {
   "cell_type": "code",
   "execution_count": 6,
   "id": "55e78d57",
   "metadata": {},
   "outputs": [
    {
     "data": {
      "text/plain": [
       "12"
      ]
     },
     "execution_count": 6,
     "metadata": {},
     "output_type": "execute_result"
    }
   ],
   "source": [
    "def max_three(a,b,c):\n",
    "    largest=a\n",
    "    if b>a and b>c:\n",
    "        largest=b\n",
    "        print(\"Largest num is:\",largest)\n",
    "    elif c>a and c>b:\n",
    "        largest=c\n",
    "        print(\"largest num is: \",largest)\n",
    "    return largest\n",
    "max_three(12,5,8)"
   ]
  },
  {
   "cell_type": "code",
   "execution_count": 7,
   "id": "b917165a",
   "metadata": {},
   "outputs": [
    {
     "name": "stdout",
     "output_type": "stream",
     "text": [
      "Largest num is: 50\n"
     ]
    },
    {
     "data": {
      "text/plain": [
       "50"
      ]
     },
     "execution_count": 7,
     "metadata": {},
     "output_type": "execute_result"
    }
   ],
   "source": [
    "max_three(45,50,25)"
   ]
  },
  {
   "cell_type": "code",
   "execution_count": 11,
   "id": "bb6ae2cb",
   "metadata": {},
   "outputs": [
    {
     "data": {
      "text/plain": [
       "12"
      ]
     },
     "execution_count": 11,
     "metadata": {},
     "output_type": "execute_result"
    }
   ],
   "source": [
    "def max_three(a,b,c):\n",
    "    largest=a\n",
    "    if b>a and b>c:\n",
    "        largest=b\n",
    "        return 'Largest num is:',largest\n",
    "    elif c>a and c>b:\n",
    "        largest=c\n",
    "        return  \"largest num is: \",largest\n",
    "    return largest\n",
    "max_three(12,5,8)"
   ]
  },
  {
   "cell_type": "code",
   "execution_count": 10,
   "id": "468a5adf",
   "metadata": {},
   "outputs": [
    {
     "data": {
      "text/plain": [
       "('largest num is: ', 75)"
      ]
     },
     "execution_count": 10,
     "metadata": {},
     "output_type": "execute_result"
    }
   ],
   "source": [
    "max_three(45,52,75)"
   ]
  },
  {
   "cell_type": "code",
   "execution_count": 12,
   "id": "c3ae7bf1",
   "metadata": {},
   "outputs": [
    {
     "data": {
      "text/plain": [
       "('Largest num is:', 50)"
      ]
     },
     "execution_count": 12,
     "metadata": {},
     "output_type": "execute_result"
    }
   ],
   "source": [
    "max_three(40,50,25)"
   ]
  },
  {
   "cell_type": "code",
   "execution_count": 14,
   "id": "41f1faf6",
   "metadata": {},
   "outputs": [
    {
     "name": "stdout",
     "output_type": "stream",
     "text": [
      "Enter first number: 800\n",
      "Enter second number: 400\n",
      "Enter third number: 500\n",
      "Max num is 800\n"
     ]
    }
   ],
   "source": [
    "num1=int(input(\"Enter first number: \"))\n",
    "num2=int(input(\"Enter second number: \"))\n",
    "num3=int(input(\"Enter third number: \"))\n",
    "\n",
    "result=max(num1,num2,num3)\n",
    "\n",
    "print('Max num is {}'.format(result))"
   ]
  },
  {
   "cell_type": "code",
   "execution_count": 15,
   "id": "b17f2769",
   "metadata": {},
   "outputs": [
    {
     "name": "stdout",
     "output_type": "stream",
     "text": [
      "Enter first number: 500\n",
      "Enter second number: 1000\n",
      "Enter third number: 200\n",
      "Max num is 1000\n"
     ]
    }
   ],
   "source": [
    "num1=int(input(\"Enter first number: \"))\n",
    "num2=int(input(\"Enter second number: \"))\n",
    "num3=int(input(\"Enter third number: \"))\n",
    "\n",
    "result=max(num1,num2,num3)\n",
    "\n",
    "print('Max num is {}'.format(result))"
   ]
  },
  {
   "cell_type": "markdown",
   "id": "0b842218",
   "metadata": {},
   "source": [
    "## Using Lambda Function"
   ]
  },
  {
   "cell_type": "code",
   "execution_count": 20,
   "id": "4f31bc6d",
   "metadata": {},
   "outputs": [],
   "source": [
    "result=lambda a,b,c:max(a,b,c)"
   ]
  },
  {
   "cell_type": "code",
   "execution_count": 21,
   "id": "d40aa279",
   "metadata": {},
   "outputs": [
    {
     "data": {
      "text/plain": [
       "45"
      ]
     },
     "execution_count": 21,
     "metadata": {},
     "output_type": "execute_result"
    }
   ],
   "source": [
    "result(12,45,10)"
   ]
  },
  {
   "cell_type": "code",
   "execution_count": 22,
   "id": "cce14960",
   "metadata": {},
   "outputs": [
    {
     "data": {
      "text/plain": [
       "100"
      ]
     },
     "execution_count": 22,
     "metadata": {},
     "output_type": "execute_result"
    }
   ],
   "source": [
    "result(80,100,75)"
   ]
  },
  {
   "cell_type": "code",
   "execution_count": 23,
   "id": "ffcc358e",
   "metadata": {},
   "outputs": [],
   "source": [
    "greater_num=lambda x,y,z:max(x,y,z)"
   ]
  },
  {
   "cell_type": "code",
   "execution_count": 24,
   "id": "40ba6c80",
   "metadata": {},
   "outputs": [
    {
     "data": {
      "text/plain": [
       "10"
      ]
     },
     "execution_count": 24,
     "metadata": {},
     "output_type": "execute_result"
    }
   ],
   "source": [
    "greater_num(10,5,8)"
   ]
  },
  {
   "cell_type": "code",
   "execution_count": 25,
   "id": "6ae45bbf",
   "metadata": {},
   "outputs": [
    {
     "data": {
      "text/plain": [
       "50"
      ]
     },
     "execution_count": 25,
     "metadata": {},
     "output_type": "execute_result"
    }
   ],
   "source": [
    "greater_num(25,50,45)"
   ]
  },
  {
   "cell_type": "markdown",
   "id": "c9613a86",
   "metadata": {},
   "source": [
    "## Write a program to print max number in one line"
   ]
  },
  {
   "cell_type": "code",
   "execution_count": 30,
   "id": "410eddd5",
   "metadata": {},
   "outputs": [],
   "source": [
    "abc=lambda p,q,r:'%d is greater'%(p) if p>q and p>r else '%d is greater'%(q) if q>p and q>r else '%d is greater' %(r)"
   ]
  },
  {
   "cell_type": "code",
   "execution_count": 31,
   "id": "e1f4b5de",
   "metadata": {},
   "outputs": [
    {
     "data": {
      "text/plain": [
       "'12 is greater'"
      ]
     },
     "execution_count": 31,
     "metadata": {},
     "output_type": "execute_result"
    }
   ],
   "source": [
    "abc(12,10,2)"
   ]
  },
  {
   "cell_type": "code",
   "execution_count": 32,
   "id": "725e09b9",
   "metadata": {},
   "outputs": [
    {
     "data": {
      "text/plain": [
       "'80 is greater'"
      ]
     },
     "execution_count": 32,
     "metadata": {},
     "output_type": "execute_result"
    }
   ],
   "source": [
    "abc(45,80,75)"
   ]
  },
  {
   "cell_type": "code",
   "execution_count": 33,
   "id": "6da63c8f",
   "metadata": {},
   "outputs": [
    {
     "data": {
      "text/plain": [
       "'500 is greater'"
      ]
     },
     "execution_count": 33,
     "metadata": {},
     "output_type": "execute_result"
    }
   ],
   "source": [
    "abc(100,50,500)"
   ]
  },
  {
   "cell_type": "code",
   "execution_count": null,
   "id": "e1c0c92d",
   "metadata": {},
   "outputs": [],
   "source": []
  }
 ],
 "metadata": {
  "kernelspec": {
   "display_name": "Python 3",
   "language": "python",
   "name": "python3"
  },
  "language_info": {
   "codemirror_mode": {
    "name": "ipython",
    "version": 3
   },
   "file_extension": ".py",
   "mimetype": "text/x-python",
   "name": "python",
   "nbconvert_exporter": "python",
   "pygments_lexer": "ipython3",
   "version": "3.8.8"
  }
 },
 "nbformat": 4,
 "nbformat_minor": 5
}
